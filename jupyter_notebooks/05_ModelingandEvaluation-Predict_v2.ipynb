{
 "cells": [
  {
   "cell_type": "markdown",
   "metadata": {},
   "source": [
    "# Applying Regression to Predict Sale Price\n",
    "\n",
    "\n",
    "## Objectives\n",
    "- Streamline the pipeline from the previous notebook to focus on only the most essential features.\n",
    "\n",
    "## Inputs\n",
    "- outputs/datasets/collection/\n",
    "Instructions on which variables to use for data cleaning and feature engineering, found in the respective notebooks.\n",
    "Outputs\n",
    "Train set (features and target)\n",
    "Test set (features and target)\n",
    "ML pipeline to predict sale price\n",
    "Feature importance plot"
   ]
  }
 ],
 "metadata": {
  "language_info": {
   "name": "python"
  }
 },
 "nbformat": 4,
 "nbformat_minor": 2
}
